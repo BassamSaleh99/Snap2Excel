{
 "cells": [
  {
   "cell_type": "code",
   "execution_count": 1,
   "metadata": {
    "execution": {
     "iopub.execute_input": "2025-05-04T17:12:01.665451Z",
     "iopub.status.busy": "2025-05-04T17:12:01.665244Z",
     "iopub.status.idle": "2025-05-04T17:12:11.173154Z",
     "shell.execute_reply": "2025-05-04T17:12:11.172122Z",
     "shell.execute_reply.started": "2025-05-04T17:12:01.665431Z"
    }
   },
   "outputs": [
    {
     "name": "stdout",
     "output_type": "stream",
     "text": [
      "Requirement already satisfied: pytesseract in /opt/conda/lib/python3.10/site-packages (0.3.10)\n",
      "Requirement already satisfied: packaging>=21.3 in /opt/conda/lib/python3.10/site-packages (from pytesseract) (21.3)\n",
      "Requirement already satisfied: Pillow>=8.0.0 in /opt/conda/lib/python3.10/site-packages (from pytesseract) (9.5.0)\n",
      "Requirement already satisfied: pyparsing!=3.0.5,>=2.0.2 in /opt/conda/lib/python3.10/site-packages (from packaging>=21.3->pytesseract) (3.1.1)\n",
      "Note: you may need to restart the kernel to use updated packages.\n"
     ]
    }
   ],
   "source": [
    "pip install pytesseract"
   ]
  },
  {
   "cell_type": "code",
   "execution_count": 2,
   "metadata": {
    "execution": {
     "iopub.execute_input": "2025-05-04T17:12:11.175860Z",
     "iopub.status.busy": "2025-05-04T17:12:11.175412Z",
     "iopub.status.idle": "2025-05-04T17:12:22.527407Z",
     "shell.execute_reply": "2025-05-04T17:12:22.526742Z",
     "shell.execute_reply.started": "2025-05-04T17:12:11.175824Z"
    }
   },
   "outputs": [
    {
     "name": "stderr",
     "output_type": "stream",
     "text": [
      "2025-05-04 17:12:12.785113: E external/local_xla/xla/stream_executor/cuda/cuda_dnn.cc:9261] Unable to register cuDNN factory: Attempting to register factory for plugin cuDNN when one has already been registered\n",
      "2025-05-04 17:12:12.785221: E external/local_xla/xla/stream_executor/cuda/cuda_fft.cc:607] Unable to register cuFFT factory: Attempting to register factory for plugin cuFFT when one has already been registered\n",
      "2025-05-04 17:12:12.903791: E external/local_xla/xla/stream_executor/cuda/cuda_blas.cc:1515] Unable to register cuBLAS factory: Attempting to register factory for plugin cuBLAS when one has already been registered\n"
     ]
    }
   ],
   "source": [
    "import warnings\n",
    "warnings.filterwarnings('ignore')\n",
    "\n",
    "import tensorflow as tf\n",
    "import os\n",
    "import matplotlib.pyplot as plt\n",
    "import numpy as np\n",
    "import cv2\n",
    "import xml.etree.ElementTree as ET\n",
    "from PIL import Image\n",
    "import pandas as pd\n",
    "import pytesseract\n",
    "from sklearn.model_selection import train_test_split"
   ]
  },
  {
   "cell_type": "code",
   "execution_count": 3,
   "metadata": {
    "execution": {
     "iopub.execute_input": "2025-05-04T17:13:58.613652Z",
     "iopub.status.busy": "2025-05-04T17:13:58.613009Z",
     "iopub.status.idle": "2025-05-04T17:13:58.621429Z",
     "shell.execute_reply": "2025-05-04T17:13:58.620601Z",
     "shell.execute_reply.started": "2025-05-04T17:13:58.613620Z"
    }
   },
   "outputs": [
    {
     "name": "stdout",
     "output_type": "stream",
     "text": [
      "originalImage path: /kaggle/input/marmot-extended/Marmot_data/10.1.1.1.2006_3.bmp\n",
      "imageMask path: /kaggle/input/marmot-extended/Marmot_data/10.1.1.1.2006_3.xml\n",
      "fileSavepath path: /kaggle/working/final_data/\n",
      "table_mask_path path: /kaggle/working/final_data/tablemask/\n",
      "col_mask_path path: /kaggle/working/final_data/colmask/\n",
      "org_image_path path: /kaggle/working/final_data/orgimage/\n",
      "dataPath path: /kaggle/input/marmot-extended/Marmot_data/\n",
      "dataPath path: /kaggle/working/model\n"
     ]
    }
   ],
   "source": [
    "# List files in the input directory\n",
    "# for dirname, _, filenames in os.walk('/kaggle/input'):\n",
    "#     for filename in filenames:\n",
    "#         print(os.path.join(dirname, filename))\n",
    "\n",
    "# Set paths for input and output folders\n",
    "originalImage = \"/kaggle/input/marmot-extended/Marmot_data/10.1.1.1.2006_3.bmp\" \n",
    "imageMask = \"/kaggle/input/marmot-extended/Marmot_data/10.1.1.1.2006_3.xml\"      \n",
    "fileSavepath = \"/kaggle/working/final_data/\"                                     \n",
    "table_mask_path = \"/kaggle/working/final_data/tablemask/\"                        \n",
    "col_mask_path = \"/kaggle/working/final_data/colmask/\"                            \n",
    "org_image_path = \"/kaggle/working/final_data/orgimage/\"                          \n",
    "dataPath = \"/kaggle/input/marmot-extended/Marmot_data/\"                          \n",
    "model = \"/kaggle/working/model\"                                                  \n",
    "\n",
    "# Create directories if they don't exist\n",
    "os.makedirs(fileSavepath, exist_ok=True)\n",
    "os.makedirs(table_mask_path, exist_ok=True)\n",
    "os.makedirs(col_mask_path, exist_ok=True)\n",
    "os.makedirs(org_image_path, exist_ok=True)\n",
    "os.makedirs(model, exist_ok=True)\n",
    "\n",
    "# Print paths for confirmation\n",
    "print(\"originalImage path:\", originalImage)\n",
    "print(\"imageMask path:\", imageMask)\n",
    "print(\"fileSavepath path:\", fileSavepath)\n",
    "print(\"table_mask_path path:\", table_mask_path)\n",
    "print(\"col_mask_path path:\", col_mask_path)\n",
    "print(\"org_image_path path:\", org_image_path)\n",
    "print(\"dataPath path:\", dataPath)\n",
    "print(\"model path:\", model)\n"
   ]
  },
  {
   "cell_type": "code",
   "execution_count": 4,
   "metadata": {
    "execution": {
     "iopub.execute_input": "2025-05-04T17:15:37.041775Z",
     "iopub.status.busy": "2025-05-04T17:15:37.040940Z",
     "iopub.status.idle": "2025-05-04T17:15:38.194979Z",
     "shell.execute_reply": "2025-05-04T17:15:38.194207Z",
     "shell.execute_reply.started": "2025-05-04T17:15:37.041739Z"
    }
   },
   "outputs": [
    {
     "data": {
      "text/html": [
       "<div>\n",
       "<style scoped>\n",
       "    .dataframe tbody tr th:only-of-type {\n",
       "        vertical-align: middle;\n",
       "    }\n",
       "\n",
       "    .dataframe tbody tr th {\n",
       "        vertical-align: top;\n",
       "    }\n",
       "\n",
       "    .dataframe thead th {\n",
       "        text-align: right;\n",
       "    }\n",
       "</style>\n",
       "<table border=\"1\" class=\"dataframe\">\n",
       "  <thead>\n",
       "    <tr style=\"text-align: right;\">\n",
       "      <th></th>\n",
       "      <th>image_path</th>\n",
       "      <th>xml_path</th>\n",
       "    </tr>\n",
       "  </thead>\n",
       "  <tbody>\n",
       "    <tr>\n",
       "      <th>0</th>\n",
       "      <td>10.1.1.6.2260_4.bmp</td>\n",
       "      <td>10.1.1.6.2260_4.xml</td>\n",
       "    </tr>\n",
       "    <tr>\n",
       "      <th>1</th>\n",
       "      <td>10.1.1.1.2034_8.bmp</td>\n",
       "      <td>10.1.1.1.2034_8.xml</td>\n",
       "    </tr>\n",
       "  </tbody>\n",
       "</table>\n",
       "</div>"
      ],
      "text/plain": [
       "            image_path             xml_path\n",
       "0  10.1.1.6.2260_4.bmp  10.1.1.6.2260_4.xml\n",
       "1  10.1.1.1.2034_8.bmp  10.1.1.1.2034_8.xml"
      ]
     },
     "execution_count": 4,
     "metadata": {},
     "output_type": "execute_result"
    }
   ],
   "source": [
    "image_xml_dict = {\"image_path\":[], \"xml_path\":[]}\n",
    "\n",
    "for file in os.listdir(dataPath):\n",
    "  if \".bmp\" in file:\n",
    "    name = file.split(\".bmp\")[0]\n",
    "    if os.path.exists(dataPath+name+\".xml\"):\n",
    "      image_xml_dict['image_path'].append(name+\".bmp\")\n",
    "      image_xml_dict['xml_path'].append(name+\".xml\")\n",
    "\n",
    "\n",
    "image_xml_df = pd.DataFrame(image_xml_dict)\n",
    "\n",
    "image_xml_df.head(2)"
   ]
  }
 ],
 "metadata": {
  "kaggle": {
   "accelerator": "nvidiaTeslaT4",
   "dataSources": [
    {
     "datasetId": 2147756,
     "sourceId": 3575128,
     "sourceType": "datasetVersion"
    },
    {
     "datasetId": 5516071,
     "sourceId": 9134797,
     "sourceType": "datasetVersion"
    }
   ],
   "dockerImageVersionId": 30747,
   "isGpuEnabled": true,
   "isInternetEnabled": true,
   "language": "python",
   "sourceType": "notebook"
  },
  "kernelspec": {
   "display_name": "Python 3 (ipykernel)",
   "language": "python",
   "name": "python3"
  },
  "language_info": {
   "codemirror_mode": {
    "name": "ipython",
    "version": 3
   },
   "file_extension": ".py",
   "mimetype": "text/x-python",
   "name": "python",
   "nbconvert_exporter": "python",
   "pygments_lexer": "ipython3",
   "version": "3.10.13"
  }
 },
 "nbformat": 4,
 "nbformat_minor": 4
}
