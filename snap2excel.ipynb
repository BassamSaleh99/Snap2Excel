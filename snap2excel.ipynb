{
 "cells": [
  {
   "cell_type": "code",
   "execution_count": 3,
   "metadata": {
    "execution": {
     "iopub.execute_input": "2025-05-05T17:03:56.574934Z",
     "iopub.status.busy": "2025-05-05T17:03:56.574582Z",
     "iopub.status.idle": "2025-05-05T17:04:05.968915Z",
     "shell.execute_reply": "2025-05-05T17:04:05.967693Z",
     "shell.execute_reply.started": "2025-05-05T17:03:56.574910Z"
    }
   },
   "outputs": [
    {
     "name": "stdout",
     "output_type": "stream",
     "text": [
      "Requirement already satisfied: pytesseract in /opt/conda/lib/python3.10/site-packages (0.3.10)\n",
      "Requirement already satisfied: packaging>=21.3 in /opt/conda/lib/python3.10/site-packages (from pytesseract) (21.3)\n",
      "Requirement already satisfied: Pillow>=8.0.0 in /opt/conda/lib/python3.10/site-packages (from pytesseract) (9.5.0)\n",
      "Requirement already satisfied: pyparsing!=3.0.5,>=2.0.2 in /opt/conda/lib/python3.10/site-packages (from packaging>=21.3->pytesseract) (3.1.1)\n",
      "Note: you may need to restart the kernel to use updated packages.\n"
     ]
    }
   ],
   "source": [
    "pip install pytesseract"
   ]
  },
  {
   "cell_type": "code",
   "execution_count": 4,
   "metadata": {
    "execution": {
     "iopub.execute_input": "2025-05-05T17:04:05.971060Z",
     "iopub.status.busy": "2025-05-05T17:04:05.970752Z",
     "iopub.status.idle": "2025-05-05T17:04:23.451762Z",
     "shell.execute_reply": "2025-05-05T17:04:23.450744Z",
     "shell.execute_reply.started": "2025-05-05T17:04:05.971033Z"
    }
   },
   "outputs": [
    {
     "name": "stderr",
     "output_type": "stream",
     "text": [
      "2025-05-05 17:04:08.642861: E external/local_xla/xla/stream_executor/cuda/cuda_dnn.cc:9261] Unable to register cuDNN factory: Attempting to register factory for plugin cuDNN when one has already been registered\n",
      "2025-05-05 17:04:08.643015: E external/local_xla/xla/stream_executor/cuda/cuda_fft.cc:607] Unable to register cuFFT factory: Attempting to register factory for plugin cuFFT when one has already been registered\n",
      "2025-05-05 17:04:08.814726: E external/local_xla/xla/stream_executor/cuda/cuda_blas.cc:1515] Unable to register cuBLAS factory: Attempting to register factory for plugin cuBLAS when one has already been registered\n"
     ]
    }
   ],
   "source": [
    "import warnings\n",
    "warnings.filterwarnings('ignore')\n",
    "\n",
    "import tensorflow as tf\n",
    "import os\n",
    "import matplotlib.pyplot as plt\n",
    "import numpy as np\n",
    "import cv2\n",
    "import xml.etree.ElementTree as ET\n",
    "from PIL import Image\n",
    "import pandas as pd\n",
    "import pytesseract\n",
    "from sklearn.model_selection import train_test_split"
   ]
  },
  {
   "cell_type": "code",
   "execution_count": 5,
   "metadata": {
    "execution": {
     "iopub.execute_input": "2025-05-05T17:04:23.453575Z",
     "iopub.status.busy": "2025-05-05T17:04:23.453060Z",
     "iopub.status.idle": "2025-05-05T17:04:23.464647Z",
     "shell.execute_reply": "2025-05-05T17:04:23.463631Z",
     "shell.execute_reply.started": "2025-05-05T17:04:23.453552Z"
    }
   },
   "outputs": [
    {
     "name": "stdout",
     "output_type": "stream",
     "text": [
      "originalImage path: /kaggle/input/marmot-extended/Marmot_data/10.1.1.1.2006_3.bmp\n",
      "imageMask path: /kaggle/input/marmot-extended/Marmot_data/10.1.1.1.2006_3.xml\n",
      "fileSavepath path: /kaggle/working/final_data/\n",
      "table_mask_path path: /kaggle/working/final_data/tablemask/\n",
      "col_mask_path path: /kaggle/working/final_data/colmask/\n",
      "org_image_path path: /kaggle/working/final_data/orgimage/\n",
      "dataPath path: /kaggle/input/marmot-extended/Marmot_data/\n",
      "model path: /kaggle/working/model\n"
     ]
    }
   ],
   "source": [
    "# List files in the input directory\n",
    "# for dirname, _, filenames in os.walk('/kaggle/input'):\n",
    "#     for filename in filenames:\n",
    "#         print(os.path.join(dirname, filename))\n",
    "\n",
    "# Set paths for input and output folders\n",
    "originalImage = \"/kaggle/input/marmot-extended/Marmot_data/10.1.1.1.2006_3.bmp\"  # Sample image path (not essential unless you're testing on this image directly)\n",
    "imageMask = \"/kaggle/input/marmot-extended/Marmot_data/10.1.1.1.2006_3.xml\"      # Sample annotation path (also optional)\n",
    "fileSavepath = \"/kaggle/working/final_data/\"                                     # Root save directory\n",
    "table_mask_path = \"/kaggle/working/final_data/tablemask/\"                        # Folder to save table masks (if generated)\n",
    "col_mask_path = \"/kaggle/working/final_data/colmask/\"                            # Folder to save column masks (if generated)\n",
    "org_image_path = \"/kaggle/working/final_data/orgimage/\"                          # Folder to save original images\n",
    "dataPath = \"/kaggle/input/marmot-extended/Marmot_data/\"                          # Path to dataset folder\n",
    "model = \"/kaggle/working/model\"                                                  # Directory to save model files/checkpoints\n",
    "\n",
    "# Create directories if they don't exist\n",
    "os.makedirs(fileSavepath, exist_ok=True)\n",
    "os.makedirs(table_mask_path, exist_ok=True)\n",
    "os.makedirs(col_mask_path, exist_ok=True)\n",
    "os.makedirs(org_image_path, exist_ok=True)\n",
    "os.makedirs(model, exist_ok=True)\n",
    "\n",
    "# Print paths for confirmation\n",
    "print(\"originalImage path:\", originalImage)\n",
    "print(\"imageMask path:\", imageMask)\n",
    "print(\"fileSavepath path:\", fileSavepath)\n",
    "print(\"table_mask_path path:\", table_mask_path)\n",
    "print(\"col_mask_path path:\", col_mask_path)\n",
    "print(\"org_image_path path:\", org_image_path)\n",
    "print(\"dataPath path:\", dataPath)\n",
    "print(\"model path:\", model)\n"
   ]
  },
  {
   "cell_type": "code",
   "execution_count": 6,
   "metadata": {
    "execution": {
     "iopub.execute_input": "2025-05-05T17:04:23.467147Z",
     "iopub.status.busy": "2025-05-05T17:04:23.466797Z",
     "iopub.status.idle": "2025-05-05T17:04:25.594523Z",
     "shell.execute_reply": "2025-05-05T17:04:25.593501Z",
     "shell.execute_reply.started": "2025-05-05T17:04:23.467117Z"
    }
   },
   "outputs": [
    {
     "data": {
      "text/html": [
       "<div>\n",
       "<style scoped>\n",
       "    .dataframe tbody tr th:only-of-type {\n",
       "        vertical-align: middle;\n",
       "    }\n",
       "\n",
       "    .dataframe tbody tr th {\n",
       "        vertical-align: top;\n",
       "    }\n",
       "\n",
       "    .dataframe thead th {\n",
       "        text-align: right;\n",
       "    }\n",
       "</style>\n",
       "<table border=\"1\" class=\"dataframe\">\n",
       "  <thead>\n",
       "    <tr style=\"text-align: right;\">\n",
       "      <th></th>\n",
       "      <th>image_path</th>\n",
       "      <th>xml_path</th>\n",
       "    </tr>\n",
       "  </thead>\n",
       "  <tbody>\n",
       "    <tr>\n",
       "      <th>0</th>\n",
       "      <td>10.1.1.6.2260_4.bmp</td>\n",
       "      <td>10.1.1.6.2260_4.xml</td>\n",
       "    </tr>\n",
       "    <tr>\n",
       "      <th>1</th>\n",
       "      <td>10.1.1.1.2034_8.bmp</td>\n",
       "      <td>10.1.1.1.2034_8.xml</td>\n",
       "    </tr>\n",
       "  </tbody>\n",
       "</table>\n",
       "</div>"
      ],
      "text/plain": [
       "            image_path             xml_path\n",
       "0  10.1.1.6.2260_4.bmp  10.1.1.6.2260_4.xml\n",
       "1  10.1.1.1.2034_8.bmp  10.1.1.1.2034_8.xml"
      ]
     },
     "execution_count": 6,
     "metadata": {},
     "output_type": "execute_result"
    }
   ],
   "source": [
    "image_xml_dict = {\"image_path\":[], \"xml_path\":[]}\n",
    "\n",
    "for file in os.listdir(dataPath):\n",
    "  if \".bmp\" in file:\n",
    "    name = file.split(\".bmp\")[0]\n",
    "    if os.path.exists(dataPath+name+\".xml\"):\n",
    "      image_xml_dict['image_path'].append(name+\".bmp\")\n",
    "      image_xml_dict['xml_path'].append(name+\".xml\")\n",
    "\n",
    "\n",
    "image_xml_df = pd.DataFrame(image_xml_dict)\n",
    "\n",
    "image_xml_df.head(2)"
   ]
  },
  {
   "cell_type": "code",
   "execution_count": 7,
   "metadata": {
    "execution": {
     "iopub.execute_input": "2025-05-05T17:04:43.952366Z",
     "iopub.status.busy": "2025-05-05T17:04:43.951970Z",
     "iopub.status.idle": "2025-05-05T17:04:51.251808Z",
     "shell.execute_reply": "2025-05-05T17:04:51.250771Z",
     "shell.execute_reply.started": "2025-05-05T17:04:43.952340Z"
    }
   },
   "outputs": [],
   "source": [
    "def euc_dist(point1, point2):\n",
    "    dist = np.linalg.norm(point1 - point2)\n",
    "    return dist\n",
    "\n",
    "def show_image_plt(image_arr):\n",
    "  plt.figure(figsize=(5,5))\n",
    "  plt.imshow(image_arr)\n",
    "  plt.show()\n",
    "\n",
    "def save_image(name, image_arr):\n",
    "  im = Image.fromarray(image_arr)\n",
    "  im.save(name)\n",
    "\n",
    "\n",
    "final_dataframe_dict = {\"image\":[], \"table_mask\":[], \"col_mask\":[]}\n",
    "\n",
    "for index, row in image_xml_df.iterrows():\n",
    "\n",
    "\n",
    "    # per row --> xml_path\n",
    "    org_img_mask_xml = row['xml_path'] # .xml path\n",
    "    image = dataPath + row['image_path'] # image .bmp path\n",
    "\n",
    "    # file name\n",
    "    name = org_img_mask_xml.split(\".xml\")[0]\n",
    "    \n",
    "\n",
    "    # reading xml file\n",
    "    tree = ET.parse(dataPath + org_img_mask_xml)\n",
    "    root = tree.getroot()\n",
    "\n",
    "\n",
    "    size = root.find('size')\n",
    "    width = int(size.find('width').text)\n",
    "    height = int(size.find('height').text)\n",
    "    depth = int(size.find('depth').text)\n",
    "\n",
    "    # creating empty mask image\n",
    "    col_mask_empty = np.zeros(shape=(height, width), dtype=np.uint8)\n",
    "    table_mask_empty = np.zeros(shape=(height, width), dtype=np.uint8)\n",
    "\n",
    "  # finding objects\n",
    "    objects = tree.findall('object')\n",
    "    table_xmin = 0\n",
    "    table_ymin = 0\n",
    "    table_xmax = 0\n",
    "    table_ymax = 0\n",
    "    prev_dist = 0\n",
    "    dist = 0\n",
    "    forward_flag = False\n",
    "    backward_flag = False\n",
    "    newtable_flag = True\n",
    "\n",
    "    objects = tree.findall('object')\n",
    "\n",
    "    for index, object in enumerate(objects):\n",
    "        \n",
    "        bndbox = object.find('bndbox')\n",
    "        xmin = int(bndbox.find('xmin').text)\n",
    "        xmax = int(bndbox.find('xmax').text)\n",
    "        ymin = int(bndbox.find('ymin').text)\n",
    "        ymax = int(bndbox.find('ymax').text)\n",
    "        \n",
    "        col_mask_empty[ymin:ymax, xmin:xmax] = 255\n",
    "        \n",
    "        \n",
    "        \n",
    "        if index == 0:\n",
    "            \n",
    "            prev_xmin = int(bndbox.find('xmin').text)\n",
    "            prev_ymin = int(bndbox.find('ymin').text)\n",
    "            prev_xmax = int(bndbox.find('xmax').text)\n",
    "            prev_ymax = int(bndbox.find('ymax').text)\n",
    "            \n",
    "            \n",
    "        else:  \n",
    "                \n",
    "            \n",
    "            if xmin > prev_xmin and newtable_flag:\n",
    "                \n",
    "\n",
    "                table_xmin = prev_xmin\n",
    "                table_ymin = prev_ymin\n",
    "                newtable_flag = False\n",
    "                forward_flag = True\n",
    "                backward_flag = False\n",
    "\n",
    "            if xmin < prev_xmin and newtable_flag:\n",
    "                \n",
    "                \n",
    "                table_xmax = prev_xmax\n",
    "                table_ymax = prev_ymax\n",
    "                \n",
    "                \n",
    "                newtable_flag = False\n",
    "                backward_flag = True\n",
    "                forward_flag = False\n",
    "\n",
    "\n",
    "\n",
    "            if forward_flag:\n",
    "                dist = euc_dist(np.array([xmin, ymin]), np.array([prev_xmax, prev_ymin]))\n",
    "\n",
    "                if prev_dist == 0:\n",
    "                    prev_dist = dist\n",
    "                else:\n",
    "\n",
    "                    if int(np.divide(dist, prev_dist)) > 5:\n",
    "                        newtable_flag = True\n",
    "                        table_mask_empty[table_ymin:prev_ymax, table_xmin:prev_xmax] = 255\n",
    "\n",
    "                        prev_dist = 0\n",
    "                        \n",
    "                    if index==len(objects)-1:\n",
    "                        newtable_flag = True\n",
    "                        table_mask_empty[table_ymin:ymax, table_xmin:xmax] = 255\n",
    "\n",
    "                        prev_dist = 0\n",
    "\n",
    "            if backward_flag:\n",
    "                dist = euc_dist(np.array([xmax, ymin]), np.array([prev_xmin, prev_ymin]))\n",
    "\n",
    "                if prev_dist == 0:\n",
    "                    prev_dist = dist\n",
    "                else:\n",
    "                    if int(np.divide(dist, prev_dist)) > 5 or index==len(objects)-1:\n",
    "                        newtable_flag = True\n",
    "                        table_mask_empty[ymin:table_ymax, xmin:table_xmax] = 255\n",
    "                        prev_dist = 0\n",
    "            \n",
    "            prev_xmin = int(bndbox.find('xmin').text)\n",
    "            prev_ymin = int(bndbox.find('ymin').text)\n",
    "            prev_xmax = int(bndbox.find('xmax').text)\n",
    "            prev_ymax = int(bndbox.find('ymax').text)\n",
    "            prev_dist = dist\n",
    "            \n",
    "\n",
    "    save_image(table_mask_path+ name+\".jpeg\", table_mask_empty)\n",
    "    save_image(col_mask_path + name+\".jpeg\", col_mask_empty)\n",
    "\n",
    "    final_dataframe_dict['table_mask'].append(table_mask_path+ name+\".jpeg\")\n",
    "    final_dataframe_dict['col_mask'].append(col_mask_path + name+\".jpeg\")\n",
    "    final_dataframe_dict['image'].append(image)\n",
    "\n",
    "\n",
    "\n",
    "# creating dataframe --> (oroginal_image, table_mask, col_mask)\n",
    "final_dataframe = pd.DataFrame(final_dataframe_dict)\n",
    "final_dataframe.head(2)\n",
    "final_dataframe.to_csv(\"/kaggle/working/final_data/final_dataframe.csv\", index=False)"
   ]
  },
  {
   "cell_type": "code",
   "execution_count": 8,
   "metadata": {
    "execution": {
     "iopub.execute_input": "2025-05-05T17:05:21.349490Z",
     "iopub.status.busy": "2025-05-05T17:05:21.348609Z",
     "iopub.status.idle": "2025-05-05T17:05:21.364933Z",
     "shell.execute_reply": "2025-05-05T17:05:21.363790Z",
     "shell.execute_reply.started": "2025-05-05T17:05:21.349462Z"
    }
   },
   "outputs": [
    {
     "data": {
      "text/html": [
       "<div>\n",
       "<style scoped>\n",
       "    .dataframe tbody tr th:only-of-type {\n",
       "        vertical-align: middle;\n",
       "    }\n",
       "\n",
       "    .dataframe tbody tr th {\n",
       "        vertical-align: top;\n",
       "    }\n",
       "\n",
       "    .dataframe thead th {\n",
       "        text-align: right;\n",
       "    }\n",
       "</style>\n",
       "<table border=\"1\" class=\"dataframe\">\n",
       "  <thead>\n",
       "    <tr style=\"text-align: right;\">\n",
       "      <th></th>\n",
       "      <th>image</th>\n",
       "      <th>table_mask</th>\n",
       "      <th>col_mask</th>\n",
       "    </tr>\n",
       "  </thead>\n",
       "  <tbody>\n",
       "    <tr>\n",
       "      <th>0</th>\n",
       "      <td>/kaggle/input/marmot-extended/Marmot_data/10.1...</td>\n",
       "      <td>/kaggle/working/final_data/tablemask/10.1.1.6....</td>\n",
       "      <td>/kaggle/working/final_data/colmask/10.1.1.6.22...</td>\n",
       "    </tr>\n",
       "    <tr>\n",
       "      <th>1</th>\n",
       "      <td>/kaggle/input/marmot-extended/Marmot_data/10.1...</td>\n",
       "      <td>/kaggle/working/final_data/tablemask/10.1.1.1....</td>\n",
       "      <td>/kaggle/working/final_data/colmask/10.1.1.1.20...</td>\n",
       "    </tr>\n",
       "  </tbody>\n",
       "</table>\n",
       "</div>"
      ],
      "text/plain": [
       "                                               image  \\\n",
       "0  /kaggle/input/marmot-extended/Marmot_data/10.1...   \n",
       "1  /kaggle/input/marmot-extended/Marmot_data/10.1...   \n",
       "\n",
       "                                          table_mask  \\\n",
       "0  /kaggle/working/final_data/tablemask/10.1.1.6....   \n",
       "1  /kaggle/working/final_data/tablemask/10.1.1.1....   \n",
       "\n",
       "                                            col_mask  \n",
       "0  /kaggle/working/final_data/colmask/10.1.1.6.22...  \n",
       "1  /kaggle/working/final_data/colmask/10.1.1.1.20...  "
      ]
     },
     "execution_count": 8,
     "metadata": {},
     "output_type": "execute_result"
    }
   ],
   "source": [
    "final_dataframe = pd.read_csv(\"/kaggle/working/final_data/final_dataframe.csv\")\n",
    "final_dataframe.head(2)"
   ]
  },
  {
   "cell_type": "code",
   "execution_count": 9,
   "metadata": {
    "execution": {
     "iopub.execute_input": "2025-05-05T17:08:46.049788Z",
     "iopub.status.busy": "2025-05-05T17:08:46.049412Z",
     "iopub.status.idle": "2025-05-05T17:08:46.058358Z",
     "shell.execute_reply": "2025-05-05T17:08:46.057425Z",
     "shell.execute_reply.started": "2025-05-05T17:08:46.049763Z"
    }
   },
   "outputs": [],
   "source": [
    "X_train, X_test = train_test_split(final_dataframe, test_size=0.2)"
   ]
  },
  {
   "cell_type": "code",
   "execution_count": 10,
   "metadata": {
    "execution": {
     "iopub.execute_input": "2025-05-05T17:08:48.674065Z",
     "iopub.status.busy": "2025-05-05T17:08:48.673691Z",
     "iopub.status.idle": "2025-05-05T17:08:49.672098Z",
     "shell.execute_reply": "2025-05-05T17:08:49.671128Z",
     "shell.execute_reply.started": "2025-05-05T17:08:48.674039Z"
    }
   },
   "outputs": [],
   "source": [
    "training_dataset = (\n",
    "    tf.data.Dataset.from_tensor_slices(\n",
    "        (\n",
    "            tf.cast(X_train['image'].values, tf.string),\n",
    "            tf.cast(X_train['table_mask'].values, tf.string),\n",
    "            tf.cast(X_train['col_mask'].values, tf.string),\n",
    "        )\n",
    "    )\n",
    ")\n",
    "\n",
    "\n",
    "\n",
    "testing_dataset = (\n",
    "    tf.data.Dataset.from_tensor_slices(\n",
    "        (\n",
    "            tf.cast(X_test['image'].values, tf.string),\n",
    "            tf.cast(X_test['table_mask'].values, tf.string),\n",
    "            tf.cast(X_test['col_mask'].values, tf.string),\n",
    "        )\n",
    "    )\n",
    ")"
   ]
  },
  {
   "cell_type": "code",
   "execution_count": 11,
   "metadata": {
    "execution": {
     "iopub.execute_input": "2025-05-05T17:08:50.719992Z",
     "iopub.status.busy": "2025-05-05T17:08:50.719639Z",
     "iopub.status.idle": "2025-05-05T17:08:50.861430Z",
     "shell.execute_reply": "2025-05-05T17:08:50.860753Z",
     "shell.execute_reply.started": "2025-05-05T17:08:50.719968Z"
    }
   },
   "outputs": [],
   "source": [
    "@tf.function\n",
    "def load_image(image, table_mask, col_mask):\n",
    "\n",
    "    image = tf.io.read_file(image)\n",
    "    table_mask=tf.io.read_file(table_mask)\n",
    "    col_mask=tf.io.read_file(col_mask)\n",
    "\n",
    "    image=tf.io.decode_bmp(image, channels=3)\n",
    "    image=tf.image.resize(image, [512, 512])\n",
    "    image = tf.cast(image, tf.float32) / 255.0\n",
    "\n",
    "    table_mask=tf.io.decode_jpeg(table_mask, channels=1)\n",
    "    table_mask=tf.image.resize(table_mask, [512, 512])\n",
    "    table_mask = table_mask / 255.0\n",
    "    \n",
    "\n",
    "    col_mask=tf.io.decode_jpeg(col_mask, channels=1)\n",
    "    col_mask=tf.image.resize(col_mask, [512, 512])\n",
    "    col_mask = col_mask / 255.0\n",
    "\n",
    "    return image, {\"table_mask\":table_mask, \"col_mask\":col_mask}\n",
    "\n",
    "\n",
    "\n",
    "# creating dataset object\n",
    "train = training_dataset.map(load_image, num_parallel_calls=tf.data.AUTOTUNE)\n",
    "test = testing_dataset.map(load_image)"
   ]
  },
  {
   "cell_type": "code",
   "execution_count": 12,
   "metadata": {
    "execution": {
     "iopub.execute_input": "2025-05-05T17:09:55.995272Z",
     "iopub.status.busy": "2025-05-05T17:09:55.994399Z",
     "iopub.status.idle": "2025-05-05T17:09:56.017905Z",
     "shell.execute_reply": "2025-05-05T17:09:56.016877Z",
     "shell.execute_reply.started": "2025-05-05T17:09:55.995243Z"
    }
   },
   "outputs": [],
   "source": [
    "BATCH_SIZE = 8\n",
    "BUFFER_SIZE = 10\n",
    "train_steps = len(X_train) // BATCH_SIZE\n",
    "\n",
    "# for feeding to training\n",
    "train_dataset = train.cache().shuffle(BUFFER_SIZE).batch(BATCH_SIZE).repeat()\n",
    "train_dataset = train_dataset.prefetch(buffer_size=tf.data.experimental.AUTOTUNE)\n",
    "test_dataset = test.batch(BATCH_SIZE)"
   ]
  },
  {
   "cell_type": "code",
   "execution_count": null,
   "metadata": {},
   "outputs": [],
   "source": []
  }
 ],
 "metadata": {
  "kaggle": {
   "accelerator": "nvidiaTeslaT4",
   "dataSources": [
    {
     "datasetId": 2147756,
     "sourceId": 3575128,
     "sourceType": "datasetVersion"
    },
    {
     "datasetId": 5516071,
     "sourceId": 9134797,
     "sourceType": "datasetVersion"
    }
   ],
   "dockerImageVersionId": 30747,
   "isGpuEnabled": true,
   "isInternetEnabled": true,
   "language": "python",
   "sourceType": "notebook"
  },
  "kernelspec": {
   "display_name": "Python 3 (ipykernel)",
   "language": "python",
   "name": "python3"
  },
  "language_info": {
   "codemirror_mode": {
    "name": "ipython",
    "version": 3
   },
   "file_extension": ".py",
   "mimetype": "text/x-python",
   "name": "python",
   "nbconvert_exporter": "python",
   "pygments_lexer": "ipython3",
   "version": "3.10.13"
  }
 },
 "nbformat": 4,
 "nbformat_minor": 4
}
