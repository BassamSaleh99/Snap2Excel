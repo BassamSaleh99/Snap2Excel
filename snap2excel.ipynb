{
 "cells": [
  {
   "cell_type": "code",
   "execution_count": 1,
   "metadata": {
    "execution": {
     "iopub.execute_input": "2025-05-04T17:12:01.665451Z",
     "iopub.status.busy": "2025-05-04T17:12:01.665244Z",
     "iopub.status.idle": "2025-05-04T17:12:11.173154Z",
     "shell.execute_reply": "2025-05-04T17:12:11.172122Z",
     "shell.execute_reply.started": "2025-05-04T17:12:01.665431Z"
    }
   },
   "outputs": [
    {
     "name": "stdout",
     "output_type": "stream",
     "text": [
      "Requirement already satisfied: pytesseract in /opt/conda/lib/python3.10/site-packages (0.3.10)\n",
      "Requirement already satisfied: packaging>=21.3 in /opt/conda/lib/python3.10/site-packages (from pytesseract) (21.3)\n",
      "Requirement already satisfied: Pillow>=8.0.0 in /opt/conda/lib/python3.10/site-packages (from pytesseract) (9.5.0)\n",
      "Requirement already satisfied: pyparsing!=3.0.5,>=2.0.2 in /opt/conda/lib/python3.10/site-packages (from packaging>=21.3->pytesseract) (3.1.1)\n",
      "Note: you may need to restart the kernel to use updated packages.\n"
     ]
    }
   ],
   "source": [
    "pip install pytesseract"
   ]
  },
  {
   "cell_type": "code",
   "execution_count": 2,
   "metadata": {
    "execution": {
     "iopub.execute_input": "2025-05-04T17:12:11.175860Z",
     "iopub.status.busy": "2025-05-04T17:12:11.175412Z",
     "iopub.status.idle": "2025-05-04T17:12:22.527407Z",
     "shell.execute_reply": "2025-05-04T17:12:22.526742Z",
     "shell.execute_reply.started": "2025-05-04T17:12:11.175824Z"
    }
   },
   "outputs": [
    {
     "name": "stderr",
     "output_type": "stream",
     "text": [
      "2025-05-04 17:12:12.785113: E external/local_xla/xla/stream_executor/cuda/cuda_dnn.cc:9261] Unable to register cuDNN factory: Attempting to register factory for plugin cuDNN when one has already been registered\n",
      "2025-05-04 17:12:12.785221: E external/local_xla/xla/stream_executor/cuda/cuda_fft.cc:607] Unable to register cuFFT factory: Attempting to register factory for plugin cuFFT when one has already been registered\n",
      "2025-05-04 17:12:12.903791: E external/local_xla/xla/stream_executor/cuda/cuda_blas.cc:1515] Unable to register cuBLAS factory: Attempting to register factory for plugin cuBLAS when one has already been registered\n"
     ]
    }
   ],
   "source": [
    "import warnings\n",
    "warnings.filterwarnings('ignore')\n",
    "\n",
    "import tensorflow as tf\n",
    "import os\n",
    "import matplotlib.pyplot as plt\n",
    "import numpy as np\n",
    "import cv2\n",
    "import xml.etree.ElementTree as ET\n",
    "from PIL import Image\n",
    "import pandas as pd\n",
    "import pytesseract\n",
    "from sklearn.model_selection import train_test_split"
   ]
  },
  {
   "cell_type": "code",
   "execution_count": 3,
   "metadata": {
    "execution": {
     "iopub.execute_input": "2025-05-04T17:13:58.613652Z",
     "iopub.status.busy": "2025-05-04T17:13:58.613009Z",
     "iopub.status.idle": "2025-05-04T17:13:58.621429Z",
     "shell.execute_reply": "2025-05-04T17:13:58.620601Z",
     "shell.execute_reply.started": "2025-05-04T17:13:58.613620Z"
    }
   },
   "outputs": [
    {
     "name": "stdout",
     "output_type": "stream",
     "text": [
      "originalImage path: /kaggle/input/marmot-extended/Marmot_data/10.1.1.1.2006_3.bmp\n",
      "imageMask path: /kaggle/input/marmot-extended/Marmot_data/10.1.1.1.2006_3.xml\n",
      "fileSavepath path: /kaggle/working/final_data/\n",
      "table_mask_path path: /kaggle/working/final_data/tablemask/\n",
      "col_mask_path path: /kaggle/working/final_data/colmask/\n",
      "org_image_path path: /kaggle/working/final_data/orgimage/\n",
      "dataPath path: /kaggle/input/marmot-extended/Marmot_data/\n",
      "dataPath path: /kaggle/working/model\n"
     ]
    }
   ],
   "source": [
    "# List files in the input directory\n",
    "# for dirname, _, filenames in os.walk('/kaggle/input'):\n",
    "#     for filename in filenames:\n",
    "#         print(os.path.join(dirname, filename))\n",
    "\n",
    "# Set paths for input and output folders\n",
    "originalImage = \"/kaggle/input/marmot-extended/Marmot_data/10.1.1.1.2006_3.bmp\"  # Sample image path (not essential unless you're testing on this image directly)\n",
    "imageMask = \"/kaggle/input/marmot-extended/Marmot_data/10.1.1.1.2006_3.xml\"      # Sample annotation path (also optional)\n",
    "fileSavepath = \"/kaggle/working/final_data/\"                                     # Root save directory\n",
    "table_mask_path = \"/kaggle/working/final_data/tablemask/\"                        # Folder to save table masks (if generated)\n",
    "col_mask_path = \"/kaggle/working/final_data/colmask/\"                            # Folder to save column masks (if generated)\n",
    "org_image_path = \"/kaggle/working/final_data/orgimage/\"                          # Folder to save original images\n",
    "dataPath = \"/kaggle/input/marmot-extended/Marmot_data/\"                          # Path to dataset folder\n",
    "model = \"/kaggle/working/model\"                                                  # Directory to save model files/checkpoints\n",
    "\n",
    "# Create directories if they don't exist\n",
    "os.makedirs(fileSavepath, exist_ok=True)\n",
    "os.makedirs(table_mask_path, exist_ok=True)\n",
    "os.makedirs(col_mask_path, exist_ok=True)\n",
    "os.makedirs(org_image_path, exist_ok=True)\n",
    "os.makedirs(model, exist_ok=True)\n",
    "\n",
    "# Print paths for confirmation\n",
    "print(\"originalImage path:\", originalImage)\n",
    "print(\"imageMask path:\", imageMask)\n",
    "print(\"fileSavepath path:\", fileSavepath)\n",
    "print(\"table_mask_path path:\", table_mask_path)\n",
    "print(\"col_mask_path path:\", col_mask_path)\n",
    "print(\"org_image_path path:\", org_image_path)\n",
    "print(\"dataPath path:\", dataPath)\n",
    "print(\"model path:\", model)\n"
   ]
  },
  {
   "cell_type": "code",
   "execution_count": 10,
   "metadata": {
    "execution": {
     "iopub.execute_input": "2025-05-04T17:50:51.695130Z",
     "iopub.status.busy": "2025-05-04T17:50:51.694528Z",
     "iopub.status.idle": "2025-05-04T17:50:52.512884Z",
     "shell.execute_reply": "2025-05-04T17:50:52.512134Z",
     "shell.execute_reply.started": "2025-05-04T17:50:51.695072Z"
    }
   },
   "outputs": [
    {
     "data": {
      "text/html": [
       "<div>\n",
       "<style scoped>\n",
       "    .dataframe tbody tr th:only-of-type {\n",
       "        vertical-align: middle;\n",
       "    }\n",
       "\n",
       "    .dataframe tbody tr th {\n",
       "        vertical-align: top;\n",
       "    }\n",
       "\n",
       "    .dataframe thead th {\n",
       "        text-align: right;\n",
       "    }\n",
       "</style>\n",
       "<table border=\"1\" class=\"dataframe\">\n",
       "  <thead>\n",
       "    <tr style=\"text-align: right;\">\n",
       "      <th></th>\n",
       "      <th>image_path</th>\n",
       "      <th>xml_path</th>\n",
       "    </tr>\n",
       "  </thead>\n",
       "  <tbody>\n",
       "    <tr>\n",
       "      <th>0</th>\n",
       "      <td>10.1.1.6.2260_4.bmp</td>\n",
       "      <td>10.1.1.6.2260_4.xml</td>\n",
       "    </tr>\n",
       "    <tr>\n",
       "      <th>1</th>\n",
       "      <td>10.1.1.1.2034_8.bmp</td>\n",
       "      <td>10.1.1.1.2034_8.xml</td>\n",
       "    </tr>\n",
       "  </tbody>\n",
       "</table>\n",
       "</div>"
      ],
      "text/plain": [
       "            image_path             xml_path\n",
       "0  10.1.1.6.2260_4.bmp  10.1.1.6.2260_4.xml\n",
       "1  10.1.1.1.2034_8.bmp  10.1.1.1.2034_8.xml"
      ]
     },
     "execution_count": 10,
     "metadata": {},
     "output_type": "execute_result"
    }
   ],
   "source": [
    "image_xml_dict = {\"image_path\":[], \"xml_path\":[]}\n",
    "\n",
    "for file in os.listdir(dataPath):\n",
    "  if \".bmp\" in file:\n",
    "    name = file.split(\".bmp\")[0]\n",
    "    if os.path.exists(dataPath+name+\".xml\"):\n",
    "      image_xml_dict['image_path'].append(name+\".bmp\")\n",
    "      image_xml_dict['xml_path'].append(name+\".xml\")\n",
    "\n",
    "\n",
    "image_xml_df = pd.DataFrame(image_xml_dict)\n",
    "\n",
    "image_xml_df.head(2)"
   ]
  },
  {
   "cell_type": "code",
   "execution_count": 11,
   "metadata": {
    "execution": {
     "iopub.execute_input": "2025-05-04T17:51:24.758009Z",
     "iopub.status.busy": "2025-05-04T17:51:24.757718Z",
     "iopub.status.idle": "2025-05-04T17:51:28.424540Z",
     "shell.execute_reply": "2025-05-04T17:51:28.423722Z",
     "shell.execute_reply.started": "2025-05-04T17:51:24.757988Z"
    }
   },
   "outputs": [],
   "source": [
    "def euc_dist(point1, point2):\n",
    "    dist = np.linalg.norm(point1 - point2)\n",
    "    return dist\n",
    "\n",
    "def show_image_plt(image_arr):\n",
    "  plt.figure(figsize=(5,5))\n",
    "  plt.imshow(image_arr)\n",
    "  plt.show()\n",
    "\n",
    "def save_image(name, image_arr):\n",
    "  im = Image.fromarray(image_arr)\n",
    "  im.save(name)\n",
    "\n",
    "\n",
    "final_dataframe_dict = {\"image\":[], \"table_mask\":[], \"col_mask\":[]}\n",
    "\n",
    "for index, row in image_xml_df.iterrows():\n",
    "\n",
    "\n",
    "    # per row --> xml_path\n",
    "    org_img_mask_xml = row['xml_path'] # .xml path\n",
    "    image = dataPath + row['image_path'] # image .bmp path\n",
    "\n",
    "    # file name\n",
    "    name = org_img_mask_xml.split(\".xml\")[0]\n",
    "    \n",
    "\n",
    "    # reading xml file\n",
    "    tree = ET.parse(dataPath + org_img_mask_xml)\n",
    "    root = tree.getroot()\n",
    "\n",
    "\n",
    "    size = root.find('size')\n",
    "    width = int(size.find('width').text)\n",
    "    height = int(size.find('height').text)\n",
    "    depth = int(size.find('depth').text)\n",
    "\n",
    "    # creating empty mask image\n",
    "    col_mask_empty = np.zeros(shape=(height, width), dtype=np.uint8)\n",
    "    table_mask_empty = np.zeros(shape=(height, width), dtype=np.uint8)\n",
    "\n",
    "  # finding objects\n",
    "    objects = tree.findall('object')\n",
    "    table_xmin = 0\n",
    "    table_ymin = 0\n",
    "    table_xmax = 0\n",
    "    table_ymax = 0\n",
    "    prev_dist = 0\n",
    "    dist = 0\n",
    "    forward_flag = False\n",
    "    backward_flag = False\n",
    "    newtable_flag = True\n",
    "\n",
    "    objects = tree.findall('object')\n",
    "\n",
    "    for index, object in enumerate(objects):\n",
    "        \n",
    "        bndbox = object.find('bndbox')\n",
    "        xmin = int(bndbox.find('xmin').text)\n",
    "        xmax = int(bndbox.find('xmax').text)\n",
    "        ymin = int(bndbox.find('ymin').text)\n",
    "        ymax = int(bndbox.find('ymax').text)\n",
    "        \n",
    "        col_mask_empty[ymin:ymax, xmin:xmax] = 255\n",
    "        \n",
    "        \n",
    "        \n",
    "        if index == 0:\n",
    "            \n",
    "            prev_xmin = int(bndbox.find('xmin').text)\n",
    "            prev_ymin = int(bndbox.find('ymin').text)\n",
    "            prev_xmax = int(bndbox.find('xmax').text)\n",
    "            prev_ymax = int(bndbox.find('ymax').text)\n",
    "            \n",
    "            \n",
    "        else:  \n",
    "                \n",
    "            \n",
    "            if xmin > prev_xmin and newtable_flag:\n",
    "                \n",
    "\n",
    "                table_xmin = prev_xmin\n",
    "                table_ymin = prev_ymin\n",
    "                newtable_flag = False\n",
    "                forward_flag = True\n",
    "                backward_flag = False\n",
    "\n",
    "            if xmin < prev_xmin and newtable_flag:\n",
    "                \n",
    "                \n",
    "                table_xmax = prev_xmax\n",
    "                table_ymax = prev_ymax\n",
    "                \n",
    "                \n",
    "                newtable_flag = False\n",
    "                backward_flag = True\n",
    "                forward_flag = False\n",
    "\n",
    "\n",
    "\n",
    "            if forward_flag:\n",
    "                dist = euc_dist(np.array([xmin, ymin]), np.array([prev_xmax, prev_ymin]))\n",
    "\n",
    "                if prev_dist == 0:\n",
    "                    prev_dist = dist\n",
    "                else:\n",
    "\n",
    "                    if int(np.divide(dist, prev_dist)) > 5:\n",
    "                        newtable_flag = True\n",
    "                        table_mask_empty[table_ymin:prev_ymax, table_xmin:prev_xmax] = 255\n",
    "\n",
    "                        prev_dist = 0\n",
    "                        \n",
    "                    if index==len(objects)-1:\n",
    "                        newtable_flag = True\n",
    "                        table_mask_empty[table_ymin:ymax, table_xmin:xmax] = 255\n",
    "\n",
    "                        prev_dist = 0\n",
    "\n",
    "            if backward_flag:\n",
    "                dist = euc_dist(np.array([xmax, ymin]), np.array([prev_xmin, prev_ymin]))\n",
    "\n",
    "                if prev_dist == 0:\n",
    "                    prev_dist = dist\n",
    "                else:\n",
    "                    if int(np.divide(dist, prev_dist)) > 5 or index==len(objects)-1:\n",
    "                        newtable_flag = True\n",
    "                        table_mask_empty[ymin:table_ymax, xmin:table_xmax] = 255\n",
    "                        prev_dist = 0\n",
    "            \n",
    "            prev_xmin = int(bndbox.find('xmin').text)\n",
    "            prev_ymin = int(bndbox.find('ymin').text)\n",
    "            prev_xmax = int(bndbox.find('xmax').text)\n",
    "            prev_ymax = int(bndbox.find('ymax').text)\n",
    "            prev_dist = dist\n",
    "            \n",
    "\n",
    "    save_image(table_mask_path+ name+\".jpeg\", table_mask_empty)\n",
    "    save_image(col_mask_path + name+\".jpeg\", col_mask_empty)\n",
    "\n",
    "    final_dataframe_dict['table_mask'].append(table_mask_path+ name+\".jpeg\")\n",
    "    final_dataframe_dict['col_mask'].append(col_mask_path + name+\".jpeg\")\n",
    "    final_dataframe_dict['image'].append(image)\n",
    "\n",
    "\n",
    "\n",
    "# creating dataframe --> (oroginal_image, table_mask, col_mask)\n",
    "final_dataframe = pd.DataFrame(final_dataframe_dict)\n",
    "final_dataframe.head(2)\n",
    "final_dataframe.to_csv(\"/kaggle/working/final_data/final_dataframe.csv\", index=False)"
   ]
  },
  {
   "cell_type": "code",
   "execution_count": 14,
   "metadata": {
    "execution": {
     "iopub.execute_input": "2025-05-04T17:53:03.127759Z",
     "iopub.status.busy": "2025-05-04T17:53:03.127183Z",
     "iopub.status.idle": "2025-05-04T17:53:03.140260Z",
     "shell.execute_reply": "2025-05-04T17:53:03.139472Z",
     "shell.execute_reply.started": "2025-05-04T17:53:03.127732Z"
    }
   },
   "outputs": [
    {
     "data": {
      "text/html": [
       "<div>\n",
       "<style scoped>\n",
       "    .dataframe tbody tr th:only-of-type {\n",
       "        vertical-align: middle;\n",
       "    }\n",
       "\n",
       "    .dataframe tbody tr th {\n",
       "        vertical-align: top;\n",
       "    }\n",
       "\n",
       "    .dataframe thead th {\n",
       "        text-align: right;\n",
       "    }\n",
       "</style>\n",
       "<table border=\"1\" class=\"dataframe\">\n",
       "  <thead>\n",
       "    <tr style=\"text-align: right;\">\n",
       "      <th></th>\n",
       "      <th>image</th>\n",
       "      <th>table_mask</th>\n",
       "      <th>col_mask</th>\n",
       "    </tr>\n",
       "  </thead>\n",
       "  <tbody>\n",
       "    <tr>\n",
       "      <th>0</th>\n",
       "      <td>/kaggle/input/marmot-extended/Marmot_data/10.1...</td>\n",
       "      <td>/kaggle/working/final_data/tablemask/10.1.1.6....</td>\n",
       "      <td>/kaggle/working/final_data/colmask/10.1.1.6.22...</td>\n",
       "    </tr>\n",
       "    <tr>\n",
       "      <th>1</th>\n",
       "      <td>/kaggle/input/marmot-extended/Marmot_data/10.1...</td>\n",
       "      <td>/kaggle/working/final_data/tablemask/10.1.1.1....</td>\n",
       "      <td>/kaggle/working/final_data/colmask/10.1.1.1.20...</td>\n",
       "    </tr>\n",
       "  </tbody>\n",
       "</table>\n",
       "</div>"
      ],
      "text/plain": [
       "                                               image  \\\n",
       "0  /kaggle/input/marmot-extended/Marmot_data/10.1...   \n",
       "1  /kaggle/input/marmot-extended/Marmot_data/10.1...   \n",
       "\n",
       "                                          table_mask  \\\n",
       "0  /kaggle/working/final_data/tablemask/10.1.1.6....   \n",
       "1  /kaggle/working/final_data/tablemask/10.1.1.1....   \n",
       "\n",
       "                                            col_mask  \n",
       "0  /kaggle/working/final_data/colmask/10.1.1.6.22...  \n",
       "1  /kaggle/working/final_data/colmask/10.1.1.1.20...  "
      ]
     },
     "execution_count": 14,
     "metadata": {},
     "output_type": "execute_result"
    }
   ],
   "source": [
    "final_dataframe = pd.read_csv(\"/kaggle/working/final_data/final_dataframe.csv\")\n",
    "final_dataframe.head(2)"
   ]
  },
  {
   "cell_type": "code",
   "execution_count": 15,
   "metadata": {
    "execution": {
     "iopub.execute_input": "2025-05-04T17:58:15.024572Z",
     "iopub.status.busy": "2025-05-04T17:58:15.023633Z",
     "iopub.status.idle": "2025-05-04T17:58:15.032048Z",
     "shell.execute_reply": "2025-05-04T17:58:15.030983Z",
     "shell.execute_reply.started": "2025-05-04T17:58:15.024540Z"
    }
   },
   "outputs": [],
   "source": [
    "X_train, X_test = train_test_split(final_dataframe, test_size=0.2)"
   ]
  },
  {
   "cell_type": "code",
   "execution_count": 16,
   "metadata": {
    "execution": {
     "iopub.execute_input": "2025-05-04T18:01:11.472438Z",
     "iopub.status.busy": "2025-05-04T18:01:11.471843Z",
     "iopub.status.idle": "2025-05-04T18:01:12.278763Z",
     "shell.execute_reply": "2025-05-04T18:01:12.277894Z",
     "shell.execute_reply.started": "2025-05-04T18:01:11.472409Z"
    }
   },
   "outputs": [],
   "source": [
    "training_dataset = (\n",
    "    tf.data.Dataset.from_tensor_slices(\n",
    "        (\n",
    "            tf.cast(X_train['image'].values, tf.string),\n",
    "            tf.cast(X_train['table_mask'].values, tf.string),\n",
    "            tf.cast(X_train['col_mask'].values, tf.string),\n",
    "        )\n",
    "    )\n",
    ")\n",
    "\n",
    "\n",
    "\n",
    "testing_dataset = (\n",
    "    tf.data.Dataset.from_tensor_slices(\n",
    "        (\n",
    "            tf.cast(X_test['image'].values, tf.string),\n",
    "            tf.cast(X_test['table_mask'].values, tf.string),\n",
    "            tf.cast(X_test['col_mask'].values, tf.string),\n",
    "        )\n",
    "    )\n",
    ")"
   ]
  },
  {
   "cell_type": "code",
   "execution_count": null,
   "metadata": {},
   "outputs": [],
   "source": []
  }
 ],
 "metadata": {
  "kaggle": {
   "accelerator": "nvidiaTeslaT4",
   "dataSources": [
    {
     "datasetId": 2147756,
     "sourceId": 3575128,
     "sourceType": "datasetVersion"
    },
    {
     "datasetId": 5516071,
     "sourceId": 9134797,
     "sourceType": "datasetVersion"
    }
   ],
   "dockerImageVersionId": 30747,
   "isGpuEnabled": true,
   "isInternetEnabled": true,
   "language": "python",
   "sourceType": "notebook"
  },
  "kernelspec": {
   "display_name": "Python 3 (ipykernel)",
   "language": "python",
   "name": "python3"
  },
  "language_info": {
   "codemirror_mode": {
    "name": "ipython",
    "version": 3
   },
   "file_extension": ".py",
   "mimetype": "text/x-python",
   "name": "python",
   "nbconvert_exporter": "python",
   "pygments_lexer": "ipython3",
   "version": "3.10.13"
  }
 },
 "nbformat": 4,
 "nbformat_minor": 4
}
